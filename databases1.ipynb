{
 "cells": [
  {
   "cell_type": "code",
   "execution_count": null,
   "metadata": {
    "vscode": {
     "languageId": "sql"
    }
   },
   "outputs": [],
   "source": [
    "# Curso de criação de bancos de dados"
   ]
  },
  {
   "cell_type": "code",
   "execution_count": null,
   "metadata": {
    "vscode": {
     "languageId": "sql"
    }
   },
   "outputs": [],
   "source": [
    "-- Query the right table in information_schema\n",
    "SELECT table_name \n",
    "FROM information_schema.tables\n",
    "-- Specify the correct table_schema value\n",
    "WHERE table_schema = 'public';"
   ]
  },
  {
   "cell_type": "code",
   "execution_count": null,
   "metadata": {
    "vscode": {
     "languageId": "sql"
    }
   },
   "outputs": [],
   "source": [
    "-- Query the right table in information_schema to get columns\n",
    "SELECT column_name, data_type \n",
    "FROM information_schema.columns \n",
    "WHERE table_name = 'university_professors' AND table_schema = 'public';"
   ]
  },
  {
   "cell_type": "code",
   "execution_count": null,
   "metadata": {
    "vscode": {
     "languageId": "sql"
    }
   },
   "outputs": [],
   "source": [
    "SELECT COUNT(*)\n",
    "FROM information_schema.columns\n",
    "WHERE table_schema = 'public';"
   ]
  },
  {
   "cell_type": "code",
   "execution_count": null,
   "metadata": {
    "vscode": {
     "languageId": "sql"
    }
   },
   "outputs": [],
   "source": [
    "-- Query the first five rows of our table\n",
    "SELECT * \n",
    "FROM university_professors \n",
    "LIMIT 5;"
   ]
  },
  {
   "cell_type": "code",
   "execution_count": null,
   "metadata": {
    "vscode": {
     "languageId": "sql"
    }
   },
   "outputs": [],
   "source": [
    "-- Create a table for the professors entity type\n",
    "CREATE TABLE professors (\n",
    " firstname text,\n",
    " lastname text\n",
    ");\n",
    "\n",
    "-- Print the contents of this table\n",
    "SELECT * \n",
    "FROM professors;"
   ]
  },
  {
   "cell_type": "code",
   "execution_count": null,
   "metadata": {
    "vscode": {
     "languageId": "sql"
    }
   },
   "outputs": [],
   "source": [
    "-- Create a table for the universities entity type\n",
    "CREATE TABLE universities (\n",
    "    university_shortname text,\n",
    "    university text,\n",
    "    university_city text\n",
    ");\n",
    "\n",
    "\n",
    "\n",
    "\n",
    "\n",
    "-- Print the contents of this table\n",
    "SELECT * \n",
    "FROM universities;"
   ]
  },
  {
   "cell_type": "markdown",
   "metadata": {},
   "source": [
    "### Alterando o nome de uma coluna"
   ]
  },
  {
   "cell_type": "code",
   "execution_count": null,
   "metadata": {
    "vscode": {
     "languageId": "sql"
    }
   },
   "outputs": [],
   "source": [
    "-- Add the university_shortname column\n",
    "ALTER TABLE professors\n",
    "ADD COLUMN university_shortname text;\n",
    "\n",
    "-- Print the contents of this table\n",
    "SELECT * \n",
    "FROM professors;"
   ]
  },
  {
   "cell_type": "code",
   "execution_count": null,
   "metadata": {
    "vscode": {
     "languageId": "sql"
    }
   },
   "outputs": [],
   "source": [
    "-- Rename the organisation column\n",
    "ALTER TABLE affiliations\n",
    "RENAME COLUMN organisation TO organization;"
   ]
  },
  {
   "cell_type": "code",
   "execution_count": null,
   "metadata": {
    "vscode": {
     "languageId": "sql"
    }
   },
   "outputs": [],
   "source": [
    "-- Rename the organisation column\n",
    "ALTER TABLE affiliations\n",
    "RENAME COLUMN organisation TO organization;\n",
    "\n",
    "-- Delete the university_shortname column\n",
    "ALTER TABLE affiliations\n",
    "DROP COLUMN university_shortname;"
   ]
  },
  {
   "cell_type": "code",
   "execution_count": null,
   "metadata": {
    "vscode": {
     "languageId": "sql"
    }
   },
   "outputs": [],
   "source": [
    "-- Insert unique professors into the new table\n",
    "INSERT INTO professors \n",
    "SELECT DISTINCT firstname, lastname, university_shortname \n",
    "FROM university_professors;\n",
    "\n",
    "-- Doublecheck the contents of professors\n",
    "SELECT * \n",
    "FROM professors;"
   ]
  },
  {
   "cell_type": "code",
   "execution_count": null,
   "metadata": {
    "vscode": {
     "languageId": "sql"
    }
   },
   "outputs": [],
   "source": [
    "-- Insert unique affiliations into the new table\n",
    "INSERT INTO affiliations \n",
    "SELECT DISTINCT firstname, lastname, function, organization \n",
    "FROM university_professors;\n",
    "\n",
    "-- Doublecheck the contents of affiliations\n",
    "SELECT * \n",
    "FROM affiliations;"
   ]
  },
  {
   "cell_type": "code",
   "execution_count": null,
   "metadata": {
    "vscode": {
     "languageId": "sql"
    }
   },
   "outputs": [],
   "source": [
    "-- Delete the university_professors table\n",
    "DROP TABLE university_professors;"
   ]
  },
  {
   "cell_type": "markdown",
   "metadata": {},
   "source": [
    "### Constraints"
   ]
  },
  {
   "cell_type": "code",
   "execution_count": null,
   "metadata": {
    "vscode": {
     "languageId": "sql"
    }
   },
   "outputs": [],
   "source": [
    "-- Let's add a record to the table\n",
    "INSERT INTO transactions (transaction_date, amount, fee) \n",
    "VALUES ('2018-09-24', 5454, '30');\n",
    "\n",
    "-- Doublecheck the contents\n",
    "SELECT *\n",
    "FROM transactions;"
   ]
  },
  {
   "cell_type": "code",
   "execution_count": null,
   "metadata": {
    "vscode": {
     "languageId": "sql"
    }
   },
   "outputs": [],
   "source": [
    "-- Calculate the net amount as amount + fee\n",
    "SELECT transaction_date, amount + CAST(fee AS integer) AS net_amount \n",
    "FROM transactions;"
   ]
  },
  {
   "cell_type": "code",
   "execution_count": null,
   "metadata": {
    "vscode": {
     "languageId": "sql"
    }
   },
   "outputs": [],
   "source": [
    "-- Specify the correct fixed-length character type\n",
    "ALTER TABLE professors\n",
    "ALTER COLUMN university_shortname\n",
    "TYPE char(3);"
   ]
  },
  {
   "cell_type": "code",
   "execution_count": null,
   "metadata": {
    "vscode": {
     "languageId": "sql"
    }
   },
   "outputs": [],
   "source": [
    "-- Change the type of firstname\n",
    "ALTER TABLE professors\n",
    "ALTER COLUMN firstname\n",
    "TYPE varchar(64);"
   ]
  },
  {
   "cell_type": "code",
   "execution_count": null,
   "metadata": {
    "vscode": {
     "languageId": "sql"
    }
   },
   "outputs": [],
   "source": [
    "-- Convert the values in firstname to a max. of 16 characters\n",
    "ALTER TABLE professors \n",
    "ALTER COLUMN firstname \n",
    "TYPE varchar(16)\n",
    "USING SUBSTRING(firstname FROM 1 FOR 16)"
   ]
  },
  {
   "cell_type": "code",
   "execution_count": null,
   "metadata": {
    "vscode": {
     "languageId": "sql"
    }
   },
   "outputs": [],
   "source": [
    "-- Disallow NULL values in firstname\n",
    "ALTER TABLE professors \n",
    "ALTER COLUMN firstname SET NOT NULL;"
   ]
  },
  {
   "cell_type": "code",
   "execution_count": null,
   "metadata": {
    "vscode": {
     "languageId": "sql"
    }
   },
   "outputs": [],
   "source": [
    "-- Disallow NULL values in lastname\n",
    "ALTER TABLE professors\n",
    "ALTER COLUMN lastname\n",
    "SET NOT NULL;"
   ]
  },
  {
   "cell_type": "code",
   "execution_count": null,
   "metadata": {
    "vscode": {
     "languageId": "sql"
    }
   },
   "outputs": [],
   "source": [
    "-- Make universities.university_shortname unique\n",
    "ALTER TABLE universities\n",
    "ADD CONSTRAINT university_shortname_unq UNIQUE(university_shortname);"
   ]
  },
  {
   "cell_type": "code",
   "execution_count": null,
   "metadata": {
    "vscode": {
     "languageId": "sql"
    }
   },
   "outputs": [],
   "source": [
    "-- Make organizations.organization unique\n",
    "ALTER TABLE organizations\n",
    "ADD CONSTRAINT organization_unq UNIQUE(organization);"
   ]
  },
  {
   "cell_type": "markdown",
   "metadata": {},
   "source": [
    "### Keys e Superkeys"
   ]
  },
  {
   "cell_type": "markdown",
   "metadata": {},
   "source": [
    "identificando um candidato a chave"
   ]
  },
  {
   "cell_type": "code",
   "execution_count": null,
   "metadata": {
    "vscode": {
     "languageId": "sql"
    }
   },
   "outputs": [],
   "source": [
    "-- Try out different combinations\n",
    "SELECT COUNT(DISTINCT(lastname, firstname)) \n",
    "FROM professors;"
   ]
  },
  {
   "cell_type": "code",
   "execution_count": null,
   "metadata": {
    "vscode": {
     "languageId": "sql"
    }
   },
   "outputs": [],
   "source": [
    "-- Rename the organization column to id\n",
    "ALTER TABLE organizations\n",
    "RENAME COLUMN organization TO id;\n",
    "\n",
    "-- Make id a primary key\n",
    "ALTER TABLE organizations\n",
    "ADD CONSTRAINT organization_pk PRIMARY KEY (id);"
   ]
  },
  {
   "cell_type": "code",
   "execution_count": null,
   "metadata": {
    "vscode": {
     "languageId": "sql"
    }
   },
   "outputs": [],
   "source": [
    "-- Rename the university_shortname column to id\n",
    "ALTER TABLE universities\n",
    "RENAME COLUMN university_shortname TO id;\n",
    "\n",
    "-- Make id a primary key\n",
    "ALTER TABLE universities\n",
    "ADD CONSTRAINT university_pk PRIMARY KEY (id);"
   ]
  },
  {
   "cell_type": "markdown",
   "metadata": {},
   "source": [
    "Adicionando uma surrogate key (chave artificial com valores unicos)"
   ]
  },
  {
   "cell_type": "code",
   "execution_count": null,
   "metadata": {
    "vscode": {
     "languageId": "sql"
    }
   },
   "outputs": [],
   "source": [
    "-- Add the new column to the table\n",
    "ALTER TABLE professors \n",
    "ADD COLUMN id serial;"
   ]
  },
  {
   "cell_type": "code",
   "execution_count": null,
   "metadata": {
    "vscode": {
     "languageId": "sql"
    }
   },
   "outputs": [],
   "source": [
    "-- Add the new column to the table\n",
    "ALTER TABLE professors \n",
    "ADD COLUMN id serial;\n",
    "\n",
    "-- Make id a primary key\n",
    "ALTER TABLE professors \n",
    "ADD CONSTRAINT professors_pkey PRIMARY KEY (id);"
   ]
  },
  {
   "cell_type": "code",
   "execution_count": null,
   "metadata": {
    "vscode": {
     "languageId": "sql"
    }
   },
   "outputs": [],
   "source": [
    "-- Count the number of distinct rows with columns make, model\n",
    "SELECT COUNT(DISTINCT(make, model)) \n",
    "FROM cars;\n",
    "\n",
    "-- Add the id column\n",
    "ALTER TABLE cars\n",
    "ADD COLUMN id varchar(128);\n",
    "\n",
    "-- Update id with make + model\n",
    "UPDATE cars\n",
    "SET id = CONCAT(make, model);\n",
    "\n",
    "-- Make id a primary key\n",
    "ALTER TABLE cars\n",
    "ADD CONSTRAINT id_pk PRIMARY KEY(id);\n",
    "\n",
    "-- Have a look at the table\n",
    "SELECT * FROM cars;"
   ]
  },
  {
   "cell_type": "code",
   "execution_count": null,
   "metadata": {
    "vscode": {
     "languageId": "sql"
    }
   },
   "outputs": [],
   "source": [
    "-- Create the table\n",
    "CREATE TABLE students (\n",
    "  last_name varchar(128) NOT NULL,\n",
    "  ssn integer PRIMARY KEY,\n",
    "  phone_no char(12)\n",
    ");"
   ]
  },
  {
   "cell_type": "markdown",
   "metadata": {},
   "source": [
    "Foreign keys"
   ]
  },
  {
   "cell_type": "code",
   "execution_count": null,
   "metadata": {
    "vscode": {
     "languageId": "sql"
    }
   },
   "outputs": [],
   "source": [
    "-- Rename the university_shortname column\n",
    "ALTER TABLE professors\n",
    "RENAME COLUMN university_shortname TO university_id;\n",
    "\n",
    "-- Add a foreign key on professors referencing universities\n",
    "ALTER TABLE professors\n",
    "ADD CONSTRAINT professors_fkey FOREIGN KEY (university_id) REFERENCES universities (id);\n"
   ]
  },
  {
   "cell_type": "code",
   "execution_count": null,
   "metadata": {
    "vscode": {
     "languageId": "sql"
    }
   },
   "outputs": [],
   "source": [
    "-- Select all professors working for universities in the city of Zurich\n",
    "SELECT professors.lastname, universities.id, universities.university_city\n",
    "FROM professors\n",
    "JOIN universities\n",
    "ON professors.university_id = universities.id\n",
    "WHERE universities.university_city = 'Zurich';"
   ]
  },
  {
   "cell_type": "markdown",
   "metadata": {},
   "source": [
    "More complex relationships"
   ]
  },
  {
   "cell_type": "code",
   "execution_count": null,
   "metadata": {
    "vscode": {
     "languageId": "sql"
    }
   },
   "outputs": [],
   "source": [
    "-- Add a professor_id column\n",
    "ALTER TABLE affiliations\n",
    "ADD COLUMN professor_id integer REFERENCES professors (id);\n",
    "\n",
    "-- Rename the organization column to organization_id\n",
    "ALTER TABLE affiliations\n",
    "RENAME organization TO organization_id;\n",
    "\n",
    "-- Add a foreign key on organization_id\n",
    "ALTER TABLE affiliations\n",
    "ADD CONSTRAINT affiliations_organization_fkey FOREIGN KEY  (organization_id) REFERENCES organizations (id);"
   ]
  },
  {
   "cell_type": "code",
   "execution_count": null,
   "metadata": {
    "vscode": {
     "languageId": "sql"
    }
   },
   "outputs": [],
   "source": [
    "-- Set professor_id to professors.id where firstname, lastname correspond to rows in professors\n",
    "UPDATE affiliations\n",
    "SET professor_id = professors.id\n",
    "FROM professors\n",
    "WHERE affiliations.firstname = professors.firstname AND affiliations.lastname = professors.lastname;"
   ]
  },
  {
   "cell_type": "markdown",
   "metadata": {},
   "source": [
    "### Referential integrity\n",
    "Possíveis configurações quando uma coluna em uma tabela  referencia uma linha que não existe mais em outra tabela.\n",
    "\n",
    "```SQL\n",
    "-- Levanta um erro\n",
    "NO ACTION\n",
    "-- Deleta todas linhas que referenciam a linha que não existe\n",
    "CASCADE\n",
    "-- Levanta um erro\n",
    "RESTRICT\n",
    "-- Seta a coluna que referencia a linha com o valor NULL\n",
    "SET NULL\n",
    "-- Seta a coluna que referencia a linha com um valor padrão\n",
    "SET DEFAULT\n",
    "```"
   ]
  },
  {
   "cell_type": "markdown",
   "metadata": {},
   "source": [
    "Setando um novo tipo de comportamento de integridade referencial"
   ]
  },
  {
   "cell_type": "code",
   "execution_count": null,
   "metadata": {
    "vscode": {
     "languageId": "sql"
    }
   },
   "outputs": [],
   "source": [
    "-- Identify the correct constraint name\n",
    "SELECT constraint_name, table_name, constraint_type\n",
    "FROM information_schema.table_constraints\n",
    "WHERE constraint_type = 'FOREIGN KEY';\n",
    "\n",
    "-- Drop the right foreign key constraint\n",
    "ALTER TABLE affiliations\n",
    "DROP CONSTRAINT affiliations_organization_id_fkey;\n",
    "\n",
    "-- Add a new foreign key constraint from affiliations to organizations which cascades deletion\n",
    "ALTER TABLE affiliations\n",
    "ADD CONSTRAINT affiliations_organization_id_fkey FOREIGN KEY (organization_id) REFERENCES organizations (id) ON DELETE CASCADE;"
   ]
  },
  {
   "cell_type": "code",
   "execution_count": null,
   "metadata": {
    "vscode": {
     "languageId": "sql"
    }
   },
   "outputs": [],
   "source": [
    "-- Count the total number of affiliations per university\n",
    "SELECT COUNT(*), professors.university_id \n",
    "FROM affiliations\n",
    "JOIN professors\n",
    "ON affiliations.professor_id = professors.id\n",
    "-- Group by the university ids of professors\n",
    "GROUP BY professors.university_id \n",
    "ORDER BY count DESC;"
   ]
  },
  {
   "cell_type": "code",
   "execution_count": null,
   "metadata": {
    "vscode": {
     "languageId": "sql"
    }
   },
   "outputs": [],
   "source": [
    "-- Join all tables\n",
    "SELECT *\n",
    "FROM affiliations\n",
    "JOIN professors\n",
    "ON affiliations.professor_id = professors.id\n",
    "JOIN organizations\n",
    "ON affiliations.organization_id = organizations.id\n",
    "JOIN universities\n",
    "ON professors.university_id = universities.id;"
   ]
  },
  {
   "cell_type": "code",
   "execution_count": null,
   "metadata": {
    "vscode": {
     "languageId": "sql"
    }
   },
   "outputs": [],
   "source": [
    "-- Filter the table and sort it\n",
    "SELECT COUNT(*), organizations.organization_sector, \n",
    "professors.id, universities.university_city\n",
    "FROM affiliations\n",
    "JOIN professors\n",
    "ON affiliations.professor_id = professors.id\n",
    "JOIN organizations\n",
    "ON affiliations.organization_id = organizations.id\n",
    "JOIN universities\n",
    "ON professors.university_id = universities.id\n",
    "WHERE organizations.organization_sector = 'Media & communication'\n",
    "GROUP BY organizations.organization_sector, \n",
    "professors.id, universities.university_city\n",
    "ORDER BY count DESC;"
   ]
  }
 ],
 "metadata": {
  "language_info": {
   "name": "python"
  },
  "orig_nbformat": 4
 },
 "nbformat": 4,
 "nbformat_minor": 2
}
