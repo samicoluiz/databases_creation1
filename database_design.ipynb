{
 "cells": [
  {
   "cell_type": "markdown",
   "metadata": {},
   "source": [
    "# Database Design\n",
    "### Processing, Storing and Organizing Data\n",
    "\n",
    "####OLAP vs. OLTP\n",
    "OLTP: Online Transaction Processing\n",
    "OLAP: Online Analytical Processing\n",
    "\n",
    "Um precisa do outro. Uma base de dados operacional na abordagem OLTP é usada para alimentar uma base OLAP. Os dados são retirados da primeira e tratados, deopis enviados para a segunda.\n"
   ]
  },
  {
   "cell_type": "code",
   "execution_count": null,
   "metadata": {},
   "outputs": [],
   "source": []
  }
 ],
 "metadata": {
  "language_info": {
   "name": "python"
  },
  "orig_nbformat": 4
 },
 "nbformat": 4,
 "nbformat_minor": 2
}
